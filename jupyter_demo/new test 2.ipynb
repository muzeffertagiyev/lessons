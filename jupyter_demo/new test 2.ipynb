{
 "cells": [
  {
   "cell_type": "code",
   "execution_count": 17,
   "id": "ceec336c",
   "metadata": {},
   "outputs": [
    {
     "name": "stdout",
     "output_type": "stream",
     "text": [
      "Enter a number: 3\n",
      "6\n"
     ]
    }
   ],
   "source": [
    "numbers=int(input(\"Enter a number: \" ))\n",
    "\n",
    "summary=0\n",
    "for i in range(1,numbers+1):\n",
    "    summary=summary+i\n",
    "print(summary)"
   ]
  },
  {
   "cell_type": "code",
   "execution_count": 18,
   "id": "b2d55316",
   "metadata": {},
   "outputs": [
    {
     "name": "stdout",
     "output_type": "stream",
     "text": [
      "Enter a number: 5\n",
      "1 * 50% = 0.5\n",
      "2 * 50% = 1.0\n",
      "3 * 50% = 1.5\n",
      "4 * 50% = 2.0\n"
     ]
    }
   ],
   "source": [
    "number=int(input(\"Enter a number: \"))\n",
    "\n",
    "for i in range(1,number):\n",
    "    percentage=i*0.5\n",
    "    print(i,\"* 50% =\",percentage)"
   ]
  },
  {
   "cell_type": "code",
   "execution_count": 20,
   "id": "9c3714c6",
   "metadata": {},
   "outputs": [
    {
     "name": "stdout",
     "output_type": "stream",
     "text": [
      "Enter a number: 3\n",
      "Enter a number for mentioned above number's over: 3\n",
      "3^3= 27\n"
     ]
    }
   ],
   "source": [
    "number=int(input(\"Enter a number: \"))\n",
    "over=int(input(\"Enter a number for mentioned above number's over: \"))\n",
    "\n",
    "\n",
    "print (f\"{number}^{over}=\",number**over)"
   ]
  },
  {
   "cell_type": "code",
   "execution_count": null,
   "id": "da6175d3",
   "metadata": {},
   "outputs": [],
   "source": []
  }
 ],
 "metadata": {
  "kernelspec": {
   "display_name": "Python 3 (ipykernel)",
   "language": "python",
   "name": "python3"
  },
  "language_info": {
   "codemirror_mode": {
    "name": "ipython",
    "version": 3
   },
   "file_extension": ".py",
   "mimetype": "text/x-python",
   "name": "python",
   "nbconvert_exporter": "python",
   "pygments_lexer": "ipython3",
   "version": "3.9.6"
  }
 },
 "nbformat": 4,
 "nbformat_minor": 5
}

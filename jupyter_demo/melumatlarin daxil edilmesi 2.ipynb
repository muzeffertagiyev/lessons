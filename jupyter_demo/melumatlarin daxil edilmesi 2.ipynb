{
 "cells": [
  {
   "cell_type": "code",
   "execution_count": 6,
   "id": "128646bd",
   "metadata": {},
   "outputs": [
    {
     "name": "stdout",
     "output_type": "stream",
     "text": [
      "Please enter first number: 20\n",
      "Please enter second number: 30\n",
      "25.0\n"
     ]
    }
   ],
   "source": [
    "nmb1=int(input(\"Please enter first number: \"))\n",
    "nmb2=int(input(\"Please enter second number: \"))\n",
    "\n",
    "average=(nmb1+nmb2)/2\n",
    "\n",
    "\n",
    "print(float(average))"
   ]
  },
  {
   "cell_type": "code",
   "execution_count": 8,
   "id": "e055adf7",
   "metadata": {},
   "outputs": [
    {
     "name": "stdout",
     "output_type": "stream",
     "text": [
      "Enter first number: 3\n",
      "Enter second number: 4\n",
      "x=  -1.3333333333333333\n"
     ]
    }
   ],
   "source": [
    "a=int(input(\"Enter first number: \"))\n",
    "b=int(input(\"Enter second number: \"))\n",
    "\n",
    "\n",
    "print(\"x= \",-b/a)"
   ]
  },
  {
   "cell_type": "code",
   "execution_count": 12,
   "id": "683d7f60",
   "metadata": {
    "scrolled": true
   },
   "outputs": [
    {
     "name": "stdout",
     "output_type": "stream",
     "text": [
      "Enter a number: 2\n",
      "8\n"
     ]
    }
   ],
   "source": [
    "nmb=int(input(\"Enter a number: \"))\n",
    "\n",
    "x=nmb**3\n",
    "\n",
    "print(x)"
   ]
  },
  {
   "cell_type": "code",
   "execution_count": 14,
   "id": "78566cfe",
   "metadata": {},
   "outputs": [
    {
     "name": "stdout",
     "output_type": "stream",
     "text": [
      "Enter tecil:  2\n",
      "Enter time: 3\n",
      "Enter velosity: 3\n",
      "18.0\n"
     ]
    }
   ],
   "source": [
    "a=int(input(\"Enter tecil:  \"))\n",
    "t=int(input(\"Enter time: \"))\n",
    "v=int(input(\"Enter velosity: \"))\n",
    "\n",
    "S=v*t+(a*t**2)/2\n",
    "\n",
    "print(S)"
   ]
  },
  {
   "cell_type": "code",
   "execution_count": 2,
   "id": "a52a47eb",
   "metadata": {},
   "outputs": [
    {
     "name": "stdout",
     "output_type": "stream",
     "text": [
      "Enter amount of dollars you want to exchange: 1\n",
      "1 dollars =  1.7 azn\n"
     ]
    }
   ],
   "source": [
    "dollars=int(input(\"Enter amount of dollars you want to exchange: \"))\n",
    "\n",
    "azn=dollars*1.7\n",
    "\n",
    "\n",
    "print(dollars,\"dollars = \",azn,\"azn\")"
   ]
  },
  {
   "cell_type": "code",
   "execution_count": 19,
   "id": "1145b392",
   "metadata": {},
   "outputs": [
    {
     "name": "stdout",
     "output_type": "stream",
     "text": [
      "Enter amount of miles you want to extract to kilometers: 100\n",
      "100 miles =  160.9 kilometers\n"
     ]
    }
   ],
   "source": [
    "mile=int(input(\"Enter amount of miles you want to extract to kilometers: \"))\n",
    "\n",
    "kilometers=mile*1.609\n",
    "\n",
    "print(mile,\"miles = \",kilometers,\"kilometers\")"
   ]
  },
  {
   "cell_type": "code",
   "execution_count": 3,
   "id": "ef2315b8",
   "metadata": {},
   "outputs": [
    {
     "name": "stdout",
     "output_type": "stream",
     "text": [
      "Enter route to aeroport: 300\n",
      "Enter duration: 1\n",
      "Route to aeroport:  300 kilometers\n",
      "Duration:  1.0 hours\n",
      "Velosity =  300.0\n"
     ]
    }
   ],
   "source": [
    "s=int(input(\"Enter route to aeroport: \"))\n",
    "t=float(input(\"Enter duration: \"))\n",
    "\n",
    "v=s/t\n",
    "\n",
    "print(\"Route to aeroport: \",s,\"kilometers\")\n",
    "print(\"Duration: \",t,\"hours\")\n",
    "print(\"Velosity = \",v)"
   ]
  },
  {
   "cell_type": "code",
   "execution_count": 4,
   "id": "4c0fed1d",
   "metadata": {},
   "outputs": [
    {
     "name": "stdout",
     "output_type": "stream",
     "text": [
      "Enter number: 100\n",
      "Enter percentage: 10\n",
      "Number:  100\n",
      "Percentage:  10 %\n",
      "Conclusion:  10.0\n"
     ]
    }
   ],
   "source": [
    "nmb=int(input(\"Enter number: \"))\n",
    "percent=int(input(\"Enter percentage: \"))\n",
    "\n",
    "print(\"Number: \",nmb)\n",
    "print(\"Percentage: \",percent,\"%\")\n",
    "print(\"Conclusion: \",nmb*percent/100)\n",
    "\n",
    "\n"
   ]
  },
  {
   "cell_type": "code",
   "execution_count": 2,
   "id": "fab15555",
   "metadata": {},
   "outputs": [
    {
     "name": "stdout",
     "output_type": "stream",
     "text": [
      "Enter length of circle: 30\n",
      "Length:  30\n",
      "Radius:  4.716981132075471\n",
      "Diameter:  9.433962264150942\n"
     ]
    }
   ],
   "source": [
    "s=int(input(\"Enter length of circle: \"))\n",
    "π=3.18\n",
    "r=s/(2*π)\n",
    "d=2*r\n",
    "\n",
    "print(\"Length: \",s)\n",
    "print(\"Radius: \",r)\n",
    "print(\"Diameter: \",d)"
   ]
  },
  {
   "cell_type": "code",
   "execution_count": 8,
   "id": "5aa82e89",
   "metadata": {
    "scrolled": true
   },
   "outputs": [
    {
     "name": "stdout",
     "output_type": "stream",
     "text": [
      "Enter R1 resistance: 2\n",
      "Enter R2 resistance: 4\n",
      "Enter R3 resistance: 8\n",
      "R0 =  1.1428571428571428\n"
     ]
    }
   ],
   "source": [
    "R1=int(input(\"Enter R1 resistance: \"))\n",
    "R2=int(input(\"Enter R2 resistance: \"))\n",
    "R3=int(input(\"Enter R3 resistance: \"))\n",
    "\n",
    "\n",
    "\n",
    "R0=(R1*R2*R3)/(R2*R3+R1*R3+R1*R2)\n",
    "\n",
    "print(\"R0 = \",R0)"
   ]
  }
 ],
 "metadata": {
  "kernelspec": {
   "display_name": "Python 3 (ipykernel)",
   "language": "python",
   "name": "python3"
  },
  "language_info": {
   "codemirror_mode": {
    "name": "ipython",
    "version": 3
   },
   "file_extension": ".py",
   "mimetype": "text/x-python",
   "name": "python",
   "nbconvert_exporter": "python",
   "pygments_lexer": "ipython3",
   "version": "3.9.6"
  }
 },
 "nbformat": 4,
 "nbformat_minor": 5
}

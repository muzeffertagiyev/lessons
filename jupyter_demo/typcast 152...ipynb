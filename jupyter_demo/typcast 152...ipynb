{
 "cells": [
  {
   "cell_type": "code",
   "execution_count": 16,
   "id": "93e30d48",
   "metadata": {},
   "outputs": [
    {
     "name": "stdout",
     "output_type": "stream",
     "text": [
      "Enter number: 3.4\n",
      "Enter number: 3.7\n",
      "6\n",
      "1.1\n"
     ]
    }
   ],
   "source": [
    "#1\n",
    "nmb1=input(\"Enter number: \")\n",
    "nmb2=input(\"Enter number: \")\n",
    "\n",
    "print(int(nmb1.split(\".\")[0])+int(nmb2.split(\".\")[0]))\n",
    "print((int(nmb1.split(\".\")[1])+int(nmb2.split(\".\")[1]))/10)"
   ]
  },
  {
   "cell_type": "code",
   "execution_count": 8,
   "id": "53b0cbf0",
   "metadata": {},
   "outputs": [
    {
     "name": "stdout",
     "output_type": "stream",
     "text": [
      "Enter your money: 4433.35\n",
      "4433 manats 35 coins\n"
     ]
    }
   ],
   "source": [
    "#2\n",
    "\n",
    "amount=input(\"Enter your money: \")\n",
    "\n",
    "\n",
    "print(amount.split(\".\")[0],\"manats\",amount.split(\".\")[1],\"coins\")\n",
    "\n"
   ]
  },
  {
   "cell_type": "code",
   "execution_count": 24,
   "id": "0ae4f718",
   "metadata": {},
   "outputs": [
    {
     "name": "stdout",
     "output_type": "stream",
     "text": [
      "Enter weigth: 123.421512\n",
      "123 tons 421 kgs 512 qrs\n"
     ]
    }
   ],
   "source": [
    "#3\n",
    "weight=input(\"Enter weigth: \")\n",
    "\n",
    "\n",
    "print(weight.split(\".\")[0],\"tons\",weight[4:7],\"kgs\",weight[7:],\"qrs\")"
   ]
  },
  {
   "cell_type": "code",
   "execution_count": 31,
   "id": "b27f8610",
   "metadata": {},
   "outputs": [
    {
     "name": "stdout",
     "output_type": "stream",
     "text": [
      "Enter route to the aeraport: 300\n",
      "Enter needed time: 2.5\n",
      "Route:  300 kilometers\n",
      "Time:  2.5 hours\n",
      "Needed speed:  120 km/h\n"
     ]
    }
   ],
   "source": [
    "#4\n",
    "route=int(input(\"Enter route to the aeraport: \"))\n",
    "time=float(input(\"Enter needed time: \"))\n",
    "\n",
    "velocity=route/time\n",
    "\n",
    "print(\"Route: \",route,\"kilometers\")\n",
    "print(\"Time: \",time,\"hours\")\n",
    "print(\"Needed speed: \",int(velocity),\"km/h\")"
   ]
  },
  {
   "cell_type": "code",
   "execution_count": 37,
   "id": "a232abee",
   "metadata": {},
   "outputs": [
    {
     "name": "stdout",
     "output_type": "stream",
     "text": [
      "Enter start hour: 3\n",
      "Enter start minute: 25\n",
      "Enter start second: 22\n",
      "Enter finish hour: 4\n",
      "Enter finish minute: 20\n",
      "Enter finish second: 18\n",
      "1098.6666666666665 coins =  10 manats 98.66666666666652 coins\n"
     ]
    }
   ],
   "source": [
    "#5\n",
    "\n",
    "s_h=int(input(\"Enter start hour: \"))\n",
    "s_m=int(input(\"Enter start minute: \"))\n",
    "s_se=int(input(\"Enter start second: \"))\n",
    "\n",
    "f_h=int(input(\"Enter finish hour: \"))\n",
    "f_m=int(input(\"Enter finish minute: \"))\n",
    "f_se=int(input(\"Enter finish second: \"))\n",
    "\n",
    "\n",
    "12322\n",
    "\n",
    "money_for_aminute=20\n",
    "\n",
    "sum_minute=(f_h-s_h)*60+(f_m-s_m)+(f_se-s_se)/60\n",
    "\n",
    "sum_money=sum_minute*money_for_aminute\n",
    "\n",
    "\n",
    "print(sum_money,\"coins = \",int(sum_money//100),\"manats\",sum_money%100,\"coins\")\n"
   ]
  },
  {
   "cell_type": "code",
   "execution_count": 7,
   "id": "060d77b6",
   "metadata": {},
   "outputs": [
    {
     "name": "stdout",
     "output_type": "stream",
     "text": [
      "Enter your money: 100\n",
      "Enter dollars' exchange: 1.71\n",
      "Enter euros' exchange: 2.04\n",
      "Enter rubls' exchange: 0.25\n",
      "58 dollars  |remains:  82 coins\n",
      "49 euros  |remains:  3 coins\n",
      "400 rubls  |remains:  0 coins\n"
     ]
    }
   ],
   "source": [
    "#6\n",
    "azn=float(input(\"Enter your money: \"))\n",
    "dollar=float(input(\"Enter dollars' exchange: \"))\n",
    "euro=float(input(\"Enter euros' exchange: \"))\n",
    "rubl=float(input(\"Enter rubls' exchange: \"))\n",
    "\n",
    "\n",
    "print(int(azn//dollar),\"dollars\",\" |remains: \",int((azn%dollar)*100),\"coins\")\n",
    "print(int(azn//euro),\"euros\",\" |remains: \",int((azn%euro)*100),\"coins\")\n",
    "print(int(azn//rubl),\"rubls\",\" |remains: \",int((azn%rubl)*100),\"coins\")"
   ]
  },
  {
   "cell_type": "code",
   "execution_count": 11,
   "id": "282e1fea",
   "metadata": {},
   "outputs": [
    {
     "name": "stdout",
     "output_type": "stream",
     "text": [
      "Enter Left seconds: 3700\n",
      "6 hours\n"
     ]
    }
   ],
   "source": [
    "#6\n",
    "duration=int(input(\"Enter Left seconds: \"))\n",
    "\n",
    "start_time=9\n",
    "finish_time=17\n",
    "\n",
    "print(int((((finish_time-start_time)*3600)-duration)/3600),\"hours\")\n",
    "\n"
   ]
  },
  {
   "cell_type": "code",
   "execution_count": 2,
   "id": "d7a6423b",
   "metadata": {},
   "outputs": [
    {
     "name": "stdout",
     "output_type": "stream",
     "text": [
      "Enter notebook's price: 353\n",
      "Enter quantity you want to buy:3\n",
      "Enter discount percentage: 12\n",
      "Summary:  931.92 azn\n"
     ]
    }
   ],
   "source": [
    "#7\n",
    "price=int(input(\"Enter notebook's price: \"))\n",
    "quantity=int(input(\"Enter quantity you want to buy:\"))\n",
    "discount=int(input(\"Enter discount percentage: \"))\n",
    "\n",
    "print(\"Summary: \",str(price*quantity-(price*quantity)*discount/100),\"azn\")"
   ]
  },
  {
   "cell_type": "code",
   "execution_count": 3,
   "id": "afaeaf9b",
   "metadata": {},
   "outputs": [
    {
     "name": "stdout",
     "output_type": "stream",
     "text": [
      "Enter monthly sales amount in azn: 3500\n",
      "399.25 $\n"
     ]
    }
   ],
   "source": [
    "#8\n",
    "\n",
    "monthly_sales=int(input(\"Enter monthly sales amount in azn: \"))\n",
    "\n",
    "\n",
    "salary_of_manager=monthly_sales*5/100*1.71+100\n",
    "\n",
    "print(salary_of_manager,\"$\")"
   ]
  },
  {
   "cell_type": "code",
   "execution_count": null,
   "id": "df1d8413",
   "metadata": {},
   "outputs": [],
   "source": []
  },
  {
   "cell_type": "code",
   "execution_count": null,
   "id": "d3eab0ad",
   "metadata": {},
   "outputs": [],
   "source": []
  }
 ],
 "metadata": {
  "kernelspec": {
   "display_name": "Python 3 (ipykernel)",
   "language": "python",
   "name": "python3"
  },
  "language_info": {
   "codemirror_mode": {
    "name": "ipython",
    "version": 3
   },
   "file_extension": ".py",
   "mimetype": "text/x-python",
   "name": "python",
   "nbconvert_exporter": "python",
   "pygments_lexer": "ipython3",
   "version": "3.9.6"
  }
 },
 "nbformat": 4,
 "nbformat_minor": 5
}

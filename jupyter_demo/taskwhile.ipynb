{
 "cells": [
  {
   "cell_type": "code",
   "execution_count": 6,
   "id": "28d07c59",
   "metadata": {},
   "outputs": [
    {
     "name": "stdout",
     "output_type": "stream",
     "text": [
      "Enter your number: 300\n",
      "************************************************************************************************************************************************************************************************************************************************************************************************************\n"
     ]
    }
   ],
   "source": [
    "nmb=int(input(\"Enter your number: \"))\n",
    "\n",
    "\n",
    "print(nmb*\"*\")\n",
    "    \n",
    "        "
   ]
  },
  {
   "cell_type": "code",
   "execution_count": 13,
   "id": "8ba1d539",
   "metadata": {},
   "outputs": [
    {
     "name": "stdout",
     "output_type": "stream",
     "text": [
      "2,4,6,8,10,12,14,16,18,20,22,24,26,28,30,32,34,36,38,40,42,44,46,48,50,"
     ]
    }
   ],
   "source": [
    "for i in range(1,51):\n",
    "    if i%2==0:\n",
    "        print(i, end=\",\")\n"
   ]
  },
  {
   "cell_type": "code",
   "execution_count": 6,
   "id": "049a72d2",
   "metadata": {},
   "outputs": [
    {
     "name": "stdout",
     "output_type": "stream",
     "text": [
      "Enter minumum number: 20\n",
      "Enter maximum number: 30\n",
      "Summary of even numbers:  120\n",
      "Multiply of odd numbers:  9454725\n"
     ]
    }
   ],
   "source": [
    "min=int(input(\"Enter minumum number: \"))\n",
    "max=int(input(\"Enter maximum number: \"))\n",
    "\n",
    "multiply=1\n",
    "sum=0\n",
    "\n",
    "\n",
    "\n",
    "for i in range(min,max):\n",
    "  \n",
    "    if i%2==0:\n",
    "        sum=sum+i\n",
    "        \n",
    "        \n",
    "    else:\n",
    "        multiply=multiply*i\n",
    "     \n",
    "        \n",
    "print(\"Summary of even numbers: \",sum)\n",
    "print(\"Multiply of odd numbers: \",multiply)"
   ]
  },
  {
   "cell_type": "code",
   "execution_count": 7,
   "id": "7b071470",
   "metadata": {},
   "outputs": [
    {
     "name": "stdout",
     "output_type": "stream",
     "text": [
      "3\n",
      "6\n",
      "9\n",
      "12\n",
      "15\n",
      "18\n",
      "21\n",
      "24\n",
      "27\n",
      "30\n",
      "33\n",
      "36\n",
      "39\n",
      "42\n",
      "45\n",
      "48\n",
      "51\n",
      "54\n",
      "57\n",
      "60\n",
      "63\n",
      "66\n",
      "69\n",
      "72\n",
      "75\n",
      "78\n",
      "81\n",
      "84\n",
      "87\n",
      "90\n",
      "93\n",
      "96\n",
      "99\n"
     ]
    }
   ],
   "source": [
    "for x in range(1,100):\n",
    "    if x%3==0:\n",
    "        print(x)"
   ]
  },
  {
   "cell_type": "code",
   "execution_count": 10,
   "id": "3e02153b",
   "metadata": {},
   "outputs": [
    {
     "name": "stdout",
     "output_type": "stream",
     "text": [
      "Please enter the number which you want to know its factorial: 4\n",
      "24\n"
     ]
    }
   ],
   "source": [
    "number=int(input(\"Please enter the number which you want to know its factorial: \"))\n",
    "\n",
    "multiply=1\n",
    "\n",
    "for x in range(1,number+1):\n",
    "    multiply*=x\n",
    "    \n",
    "print(multiply)"
   ]
  },
  {
   "cell_type": "code",
   "execution_count": 3,
   "id": "315cdc66",
   "metadata": {
    "scrolled": true
   },
   "outputs": [
    {
     "name": "stdout",
     "output_type": "stream",
     "text": [
      "Enter number: 10\n",
      "Enter exponontation: 3\n",
      "10 ^ 3 = 1000\n"
     ]
    }
   ],
   "source": [
    "nmb=int(input(\"Enter number: \"))\n",
    "exp=int(input(\"Enter exponontation: \"))\n",
    "\n",
    "print(nmb,\"^\",exp,\"=\",nmb**exp)\n",
    "\n"
   ]
  },
  {
   "cell_type": "code",
   "execution_count": 12,
   "id": "d69d3ee8",
   "metadata": {},
   "outputs": [
    {
     "name": "stdout",
     "output_type": "stream",
     "text": [
      "Enter number: 320\n",
      "Numeral of figures in entered number: 3\n",
      "Summary of figures 5\n"
     ]
    }
   ],
   "source": [
    "nmb=input(\"Enter number: \")\n",
    "\n",
    "sum=0\n",
    "for i in nmb:\n",
    "    sum+=int(i)\n",
    "\n",
    "print(\"Numeral of figures in entered number:\",len(nmb))    \n",
    "print(\"Summary of figures\",sum)\n",
    "    \n",
    "\n"
   ]
  },
  {
   "cell_type": "code",
   "execution_count": 23,
   "id": "95092c4c",
   "metadata": {},
   "outputs": [
    {
     "name": "stdout",
     "output_type": "stream",
     "text": [
      "Enter a number: 1023212341\n",
      "1432123201\n"
     ]
    }
   ],
   "source": [
    "nmb=input(\"Enter a number: \")\n",
    "\n",
    "\n",
    "print(nmb[::-1])"
   ]
  },
  {
   "cell_type": "code",
   "execution_count": 33,
   "id": "c51af51d",
   "metadata": {},
   "outputs": [
    {
     "name": "stdout",
     "output_type": "stream",
     "text": [
      "Enter number: 333\n",
      "1\n",
      "3\n",
      "9\n",
      "37\n",
      "111\n",
      "333\n"
     ]
    }
   ],
   "source": [
    "nmb=int(input(\"Enter number: \"))\n",
    "\n",
    "\n",
    "\n",
    "for i in range(1,nmb+1):\n",
    "        \n",
    "    if nmb%i==0:\n",
    "        print(i)"
   ]
  },
  {
   "cell_type": "code",
   "execution_count": 21,
   "id": "fffffa38",
   "metadata": {},
   "outputs": [
    {
     "name": "stdout",
     "output_type": "stream",
     "text": [
      "Enter a number: 179\n",
      "[1, 179]\n",
      "Number is simple\n"
     ]
    }
   ],
   "source": [
    "nmb=int(input(\"Enter a number: \"))\n",
    "\n",
    "lst=[]\n",
    "for i in range(1,nmb+1):\n",
    "    \n",
    "    if nmb%i==0:\n",
    "        lst.append(i)\n",
    "        \n",
    "        \n",
    "if len(lst)>2:\n",
    "    print(\"Number is not simple\")\n",
    "    print(lst)\n",
    "    \n",
    "else:\n",
    "    print(lst)\n",
    "    print(\"Number is simple\")\n"
   ]
  },
  {
   "cell_type": "code",
   "execution_count": null,
   "id": "b90cc849",
   "metadata": {},
   "outputs": [],
   "source": [
    "nmb=input(\"Enter a number: \")\n",
    "\n",
    "min=nmb[0]\n",
    "\n",
    "for i in nmb:\n",
    "\n",
    "    if min>i:\n",
    "        break\n",
    "\n",
    "if min>i:       \n",
    "    print(\"Digits in number are not getting bigger\")        \n",
    "        \n",
    "else:   \n",
    "    print(\"Digits in number are getting bigger\")"
   ]
  },
  {
   "cell_type": "code",
   "execution_count": null,
   "id": "4825802a",
   "metadata": {},
   "outputs": [],
   "source": []
  }
 ],
 "metadata": {
  "kernelspec": {
   "display_name": "Python 3 (ipykernel)",
   "language": "python",
   "name": "python3"
  },
  "language_info": {
   "codemirror_mode": {
    "name": "ipython",
    "version": 3
   },
   "file_extension": ".py",
   "mimetype": "text/x-python",
   "name": "python",
   "nbconvert_exporter": "python",
   "pygments_lexer": "ipython3",
   "version": "3.9.6"
  }
 },
 "nbformat": 4,
 "nbformat_minor": 5
}

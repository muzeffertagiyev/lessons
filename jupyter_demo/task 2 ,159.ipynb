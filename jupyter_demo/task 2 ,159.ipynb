{
 "cells": [
  {
   "cell_type": "code",
   "execution_count": 2,
   "id": "a6974a1b",
   "metadata": {
    "scrolled": true
   },
   "outputs": [
    {
     "name": "stdout",
     "output_type": "stream",
     "text": [
      "13\n",
      "-23\n",
      "-21\n",
      "-30\n",
      "14\n",
      "-13\n",
      "-20\n",
      "10\n",
      "-8\n",
      "-7\n",
      "\n",
      "-122\n"
     ]
    }
   ],
   "source": [
    "#1,is not working ,yet.\n",
    "\n",
    "import random\n",
    "\n",
    "\n",
    "\n",
    "\n",
    "sum=0\n",
    "\n",
    "for i in range(10):\n",
    "    number=random.randint(-30,20)\n",
    "    print(number)\n",
    "    if number<0:\n",
    "        \n",
    "        sum+=number\n",
    "   \n",
    "        \n",
    "   \n",
    "print()\n",
    "print(sum)"
   ]
  },
  {
   "cell_type": "code",
   "execution_count": 99,
   "id": "35be3f5f",
   "metadata": {},
   "outputs": [
    {
     "name": "stdout",
     "output_type": "stream",
     "text": [
      "[5234, 890, 6520, 3859, 573, 5883, 594, 2959, 7596, 6721, 5343, 2055, 2881, 4687, 3802, 4870, 6495, 1591, 1227, 946]\n",
      "index 8 value 7596 \n",
      "index 4 value 573\n"
     ]
    }
   ],
   "source": [
    "#2\n",
    "empty_list=[]\n",
    "\n",
    "for i in range(20):\n",
    "    numbers=random.randint(1,10000)\n",
    "    empty_list.append(numbers)\n",
    "\n",
    "print(empty_list)\n",
    "max=empty_list[0]\n",
    "min=empty_list[0]\n",
    "\n",
    "for digit in empty_list:\n",
    "    if max<digit:\n",
    "        max=digit\n",
    "    if min>digit:\n",
    "        min=digit\n",
    "        \n",
    "        \n",
    "print(\"index\",empty_list.index(max),\"value\",max,\"\\n\"\"index\",empty_list.index(min),\"value\",min)"
   ]
  },
  {
   "cell_type": "code",
   "execution_count": 102,
   "id": "5fa1ab4a",
   "metadata": {},
   "outputs": [
    {
     "name": "stdout",
     "output_type": "stream",
     "text": [
      "[3, 20, 34, 31]\n",
      "4\n"
     ]
    }
   ],
   "source": [
    "#3\n",
    "\n",
    "lst=[3,6.5,20,34,3.3,2.1,3.4,9.1,31,7.6]\n",
    "\n",
    "empty_list=[]\n",
    "for digit in lst:\n",
    "    if \".\" not in str(digit):\n",
    "        empty_list.append(digit)\n",
    "print(empty_list)        \n",
    "print(len(empty_list))"
   ]
  },
  {
   "cell_type": "code",
   "execution_count": 147,
   "id": "66f23f70",
   "metadata": {},
   "outputs": [
    {
     "name": "stdout",
     "output_type": "stream",
     "text": [
      "[27, 92, 171, 85, 191, 157, 179, 107, 138, 110, 5, 84, 107, 200, 149, 63, 8, 147, 52, 69]\n",
      "[5, 8]\n",
      "[27, 92, 85, 84, 63, 52, 69]\n",
      "[171, 191, 157, 179, 107, 138, 110, 107, 200, 149, 147]\n",
      "percentage of 1 digit numbers in list:  10.0 %\n",
      "percentage of 2 digits numbers in list:  35.0 %\n",
      "percentage of 3 digits numbers in list:  55.0 %\n"
     ]
    }
   ],
   "source": [
    "#4\n",
    "empty=[]\n",
    "\n",
    "empty_lst1=[]\n",
    "empty_lst2=[]\n",
    "empty_lst3=[]\n",
    "\n",
    "for i in range(20):\n",
    "    \n",
    "    number=random.randint(1,200)\n",
    "    empty.append(number)\n",
    "    if len(str(number))==1:\n",
    "           empty_lst1.append(number)\n",
    "    if len(str(number))==2:\n",
    "           empty_lst2.append(number)\n",
    "    if len(str(number))==3:\n",
    "           empty_lst3.append(number)\n",
    "print(empty)\n",
    "print(empty_lst1)\n",
    "print(empty_lst2)\n",
    "print(empty_lst3)\n",
    "\n",
    "print(\"percentage of 1 digit numbers in list: \",str(len(empty_lst1)*100/len(empty)),\"%\")\n",
    "print(\"percentage of 2 digits numbers in list: \",str(len(empty_lst2)*100/len(empty)),\"%\")\n",
    "print(\"percentage of 3 digits numbers in list: \",str(len(empty_lst3)*100/len(empty)),\"%\")"
   ]
  },
  {
   "cell_type": "code",
   "execution_count": 244,
   "id": "72449f5c",
   "metadata": {},
   "outputs": [
    {
     "name": "stdout",
     "output_type": "stream",
     "text": [
      "[156, 163, 36, 1, 41, 57, 195, 187, 175, 109, 37, 169, 7, 115, 186, 149, 152, 131, 200]\n",
      "[179, 156, 163, 36, 1, 41, 57, 195, 187, 175, 109, 37, 169, 7, 115, 186, 149, 152, 131, 200]\n"
     ]
    }
   ],
   "source": [
    "#5\n",
    "\n",
    "empty=[]\n",
    "empty_lst=[]\n",
    "primitive=[]\n",
    "for i in range(20):\n",
    "    number=random.randint(1,200)\n",
    "    empty.append(number)\n",
    "    \n",
    "    for j in range(1,number+1):\n",
    "        if number%j==0:\n",
    "            empty_lst.append(j)\n",
    "    if len(empty_lst)>2:\n",
    "        primitive.append(number)\n",
    "\n",
    "\n",
    "print(primitive)\n",
    "print(empty)\n",
    "\n",
    "            \n",
    "        \n",
    "\n"
   ]
  },
  {
   "cell_type": "code",
   "execution_count": null,
   "id": "9690cdd1",
   "metadata": {},
   "outputs": [],
   "source": []
  },
  {
   "cell_type": "code",
   "execution_count": null,
   "id": "a4563a1c",
   "metadata": {},
   "outputs": [],
   "source": []
  },
  {
   "cell_type": "code",
   "execution_count": null,
   "id": "c24739bc",
   "metadata": {},
   "outputs": [],
   "source": []
  }
 ],
 "metadata": {
  "kernelspec": {
   "display_name": "Python 3 (ipykernel)",
   "language": "python",
   "name": "python3"
  },
  "language_info": {
   "codemirror_mode": {
    "name": "ipython",
    "version": 3
   },
   "file_extension": ".py",
   "mimetype": "text/x-python",
   "name": "python",
   "nbconvert_exporter": "python",
   "pygments_lexer": "ipython3",
   "version": "3.9.6"
  }
 },
 "nbformat": 4,
 "nbformat_minor": 5
}

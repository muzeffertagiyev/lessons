{
 "cells": [
  {
   "cell_type": "code",
   "execution_count": 3,
   "id": "547b57ba",
   "metadata": {},
   "outputs": [
    {
     "name": "stdout",
     "output_type": "stream",
     "text": [
      "Please add Route: 553\n",
      "Please enter your car's consumption for 100 kilometer: 5.5\n",
      "Petrol volume will be consumed for your route:  30.415\n",
      "Consumed petrol price for route:  27.3735  azn\n"
     ]
    }
   ],
   "source": [
    "route=int(input(\"Please add Route: \"))\n",
    "consumption=float(input(\"Please enter your car's consumption for 100 kilometer: \"))\n",
    "\n",
    "\n",
    "price_of_petrol=0.9\n",
    "used_petrol=route*consumption/100\n",
    "\n",
    "print(\"Petrol volume will be consumed for your route: \",used_petrol)\n",
    "print(\"Consumed petrol price for route: \",used_petrol*price_of_petrol,\" azn\")\n",
    "\n",
    "\n",
    "\n",
    "\n",
    "\n",
    "\n",
    "\n"
   ]
  },
  {
   "cell_type": "code",
   "execution_count": null,
   "id": "bd84ef8e",
   "metadata": {},
   "outputs": [],
   "source": [
    "length=float(input(\"Please enter length of room: \"))\n",
    "width=float(input(\"Please enter width of room: \"))\n",
    "height=float(input(\"Please enter height of room: \"))\n",
    "\n",
    "consumed_wallpaper=height*length*2+height*width*2\n",
    "\n",
    "print(f\"{consumed_wallpaper} square meter Wall paper will be used\")"
   ]
  },
  {
   "cell_type": "code",
   "execution_count": 22,
   "id": "57c9860e",
   "metadata": {},
   "outputs": [
    {
     "name": "stdout",
     "output_type": "stream",
     "text": [
      "Please enter number of rooms: 3\n",
      "\n",
      " Summary rubbish bin for all rooms:  3 \n",
      " Summary cupboard for all rooms:  3 \n",
      " Summary televison for all rooms:  3\n"
     ]
    }
   ],
   "source": [
    "rooms=int(input(\"Please enter number of rooms: \"))\n",
    "\n",
    "n_rb_f_r=1\n",
    "n_c_f_r=1\n",
    "n_tv_f_r=1\n",
    "\n",
    "print(\"\\n\",\"Summary rubbish bin for all rooms: \", n_rb_f_r*rooms,\"\\n\",\n",
    "      \"Summary cupboard for all rooms: \",n_c_f_r*rooms,\"\\n\",\n",
    "      \"Summary televison for all rooms: \",n_tv_f_r*rooms)"
   ]
  },
  {
   "cell_type": "code",
   "execution_count": 27,
   "id": "ef2ad951",
   "metadata": {},
   "outputs": [
    {
     "name": "stdout",
     "output_type": "stream",
     "text": [
      "Enter book's all page: 3421\n",
      "Enter number of pages you will read: 3\n",
      "The book will be finish more or less in  1140\n"
     ]
    }
   ],
   "source": [
    "sum_pages=int(input(\"Enter book's all page: \"))\n",
    "page_per_day=int(input(\"Enter number of pages you will read: \"))\n",
    "\n",
    "print(\"The book will be finish more or less in \",int(sum_pages/page_per_day))"
   ]
  },
  {
   "cell_type": "code",
   "execution_count": 2,
   "id": "b079d101",
   "metadata": {},
   "outputs": [
    {
     "name": "stdout",
     "output_type": "stream",
     "text": [
      "Enter number of 12 points medals: 1\n",
      "Enter number of 11 points medals: 1\n",
      "Enter number of 10 points medals: 1\n",
      "Enter number of 9 points medals: 1\n",
      "Enter number of 8 points medals: 1\n",
      "15\n"
     ]
    }
   ],
   "source": [
    "point_12=5\n",
    "point_11=4\n",
    "point_10=3\n",
    "point_9=2\n",
    "point_8=1\n",
    "\n",
    "\n",
    "gained_12=int(input(\"Enter number of 12 points medals: \" ))\n",
    "gained_11=int(input(\"Enter number of 11 points medals: \" ))\n",
    "gained_10=int(input(\"Enter number of 10 points medals: \" ))\n",
    "gained_9=int(input(\"Enter number of 9 points medals: \" ))\n",
    "gained_8=int(input(\"Enter number of 8 points medals: \" ))\n",
    "\n",
    "sum=point_12*gained_12+point_11*gained_11+point_10*gained_10+point_9*gained_9+point_8*gained_8\n",
    "\n",
    "\n",
    "print(sum)\n",
    "\n"
   ]
  },
  {
   "cell_type": "code",
   "execution_count": null,
   "id": "26aef289",
   "metadata": {},
   "outputs": [],
   "source": []
  }
 ],
 "metadata": {
  "kernelspec": {
   "display_name": "Python 3 (ipykernel)",
   "language": "python",
   "name": "python3"
  },
  "language_info": {
   "codemirror_mode": {
    "name": "ipython",
    "version": 3
   },
   "file_extension": ".py",
   "mimetype": "text/x-python",
   "name": "python",
   "nbconvert_exporter": "python",
   "pygments_lexer": "ipython3",
   "version": "3.9.6"
  }
 },
 "nbformat": 4,
 "nbformat_minor": 5
}

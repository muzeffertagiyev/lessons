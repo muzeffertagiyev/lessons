{
 "cells": [
  {
   "cell_type": "code",
   "execution_count": 1,
   "id": "f0f021ee",
   "metadata": {},
   "outputs": [
    {
     "name": "stdout",
     "output_type": "stream",
     "text": [
      "eded daxil edin: 2\n",
      "eded cutdur\n"
     ]
    }
   ],
   "source": [
    "eded=int(input(\"eded daxil edin: \"))\n",
    "if eded%2==0:\n",
    "    print(\"eded cutdur\")\n",
    "    \n",
    "else:\n",
    "    print(\"eded tekdir\")"
   ]
  },
  {
   "cell_type": "code",
   "execution_count": 2,
   "id": "9d97769a",
   "metadata": {},
   "outputs": [
    {
     "name": "stdout",
     "output_type": "stream",
     "text": [
      "eded1: 13\n",
      "eded2: 15\n",
      "kicik eded 13\n"
     ]
    }
   ],
   "source": [
    "eded1=int(input(\"eded1: \"))\n",
    "eded2=int(input(\"eded2: \"))\n",
    "\n",
    "if eded1>eded2:\n",
    "    print(f\"kicik eded {eded2} \")\n",
    "else:\n",
    "    print(f\"kicik eded {eded1}\")"
   ]
  },
  {
   "cell_type": "code",
   "execution_count": 4,
   "id": "5700ee76",
   "metadata": {},
   "outputs": [
    {
     "name": "stdout",
     "output_type": "stream",
     "text": [
      "eded daxil edin: 0\n",
      "eded musbetdir\n"
     ]
    }
   ],
   "source": [
    "eded=int(input(\"eded daxil edin: \"))\n",
    "\n",
    "if eded>=0:\n",
    "    print(\"eded musbetdir\")\n",
    "    \n",
    "else:\n",
    "    print(\"eded menfidir\")"
   ]
  },
  {
   "cell_type": "code",
   "execution_count": 12,
   "id": "1bd64f6b",
   "metadata": {},
   "outputs": [
    {
     "name": "stdout",
     "output_type": "stream",
     "text": [
      "a: 13\n",
      "b: 13\n",
      "a+b a-b a*b a/b\n",
      "yuxaridaki olan emeliyyatlardan istediyini yaz: a+b-a\n",
      "qeyd etdiyiviz hesablama shekli yuxarida qeyd etdiklerivize uygun deyil ,zehmet olmasa tekrar sinayin\n"
     ]
    }
   ],
   "source": [
    "a=int(input(\"a: \"))\n",
    "b=int(input(\"b: \"))\n",
    "\n",
    "\n",
    "print(\"a+b\",\n",
    "      \"a-b\",\n",
    "      \"a*b\",\n",
    "      \"a/b\",)\n",
    "\n",
    "secim=input(\"yuxaridaki olan emeliyyatlardan istediyini yaz: \")\n",
    "bosluqsuz=secim.strip()\n",
    "\n",
    "if bosluqsuz==\"a+b\":\n",
    "    print(a+b)\n",
    "elif bosluqsuz==\"a-b\":\n",
    "    print(a-b)\n",
    "    \n",
    "elif bosluqsuz==\"a*b\":\n",
    "    print(a*b)\n",
    "elif bosluqsuz==\"a/b\":\n",
    "    print(a/b)\n",
    "else:\n",
    "    print(\"qeyd etdiyiviz hesablama shekli yuxarida qeyd olunanlara uygun deyil ,zehmet olmasa tekrar sinayin\")\n",
    "\n",
    "\n"
   ]
  },
  {
   "cell_type": "code",
   "execution_count": 5,
   "id": "14884575",
   "metadata": {},
   "outputs": [
    {
     "name": "stdout",
     "output_type": "stream",
     "text": [
      "number 1: 20\n",
      "number 2: 5\n",
      "yes\n"
     ]
    }
   ],
   "source": [
    "nmb1=int(input(\"number 1: \"))\n",
    "nmb2=int(input(\"number 2: \"))\n",
    "\n",
    "if nmb1%nmb2==0:\n",
    "    print(\"yes\")\n",
    "    \n",
    "else:\n",
    "    print(\"no\")"
   ]
  },
  {
   "cell_type": "code",
   "execution_count": 1,
   "id": "b0730b43",
   "metadata": {},
   "outputs": [
    {
     "name": "stdout",
     "output_type": "stream",
     "text": [
      "enter a number: 51\n",
      "chosen number is greater than 50\n"
     ]
    }
   ],
   "source": [
    "nmb=int(input(\"enter a number: \"))\n",
    "\n",
    "if 1<nmb<50:\n",
    "    print(\"chosen number is between 1 and 50\")\n",
    "elif nmb>50:\n",
    "    print(\"chosen number is greater than 50\")\n",
    "else:\n",
    "    print(\"chosen number is smaller than 1\")"
   ]
  },
  {
   "cell_type": "code",
   "execution_count": 24,
   "id": "9c0c53c5",
   "metadata": {},
   "outputs": [
    {
     "name": "stdout",
     "output_type": "stream",
     "text": [
      "enter a number: 15\n",
      "Entered number can be divided to 3\n",
      "Entered number can be divided to 5\n"
     ]
    }
   ],
   "source": [
    "nmb=int(input(\"enter a number: \"))\n",
    "\n",
    "if nmb%3==0:\n",
    "    print(\"Entered number can be divided to 3\")\n",
    "    \n",
    "if nmb%5==0:\n",
    "    print(\"Entered number can be divided to 5\")\n",
    "if nmb%7==0:\n",
    "    print(\"Entered number can be divided to 7\")\n",
    "    \n",
    "if nmb%7!=0 and nmb%3!=0 and nmb%5!=0:\n",
    "    print(\"Entered number can not be divided to 3,5 and 7\")\n"
   ]
  },
  {
   "cell_type": "code",
   "execution_count": 29,
   "id": "4150665c",
   "metadata": {},
   "outputs": [
    {
     "name": "stdout",
     "output_type": "stream",
     "text": [
      "Enter a number: -5\n",
      "5\n"
     ]
    }
   ],
   "source": [
    "nmb=int(input(\"Enter a number: \"))\n",
    "\n",
    "if nmb<0:\n",
    "    print(-nmb)\n",
    "else:\n",
    "    print(nmb)"
   ]
  },
  {
   "cell_type": "code",
   "execution_count": null,
   "id": "41a143b8",
   "metadata": {},
   "outputs": [],
   "source": [
    "nmb=input(\"Enter number with maximum 4 digits:  \")\n",
    "\n",
    "if len(nmb)==1:\n",
    "    print(\"Entered number has one digit\")\n",
    "elif len(nmb)==2:\n",
    "    print(\"Entered number has two digits\")\n",
    "    \n",
    "elif len(nmb)==3:\n",
    "    print(\"Entered number has three digits\")\n",
    "elif len(nmb)==4:\n",
    "    print(\"Entered number has four digits\")\n",
    "\n",
    "else:\n",
    "    print(\"Entered number has more than 4 digits\")\n",
    "    \n",
    "    \n",
    "    "
   ]
  },
  {
   "cell_type": "code",
   "execution_count": 2,
   "id": "824486e2",
   "metadata": {},
   "outputs": [
    {
     "name": "stdout",
     "output_type": "stream",
     "text": [
      "Enter a 5 digits number:  324234\n",
      "it is not proindrol\n"
     ]
    }
   ],
   "source": [
    "nmb=input(\"Enter a 5 digits number:  \")\n",
    "\n",
    "\n",
    "\n",
    "if nmb==nmb[::-1]:\n",
    "    print(\"it is proindrol\")\n",
    "    \n",
    "else:\n",
    "    print(\"it is not proindrol\")"
   ]
  },
  {
   "cell_type": "code",
   "execution_count": 23,
   "id": "64b57d99",
   "metadata": {},
   "outputs": [
    {
     "name": "stdout",
     "output_type": "stream",
     "text": [
      "Add your Username:  MUZU\n",
      "Add Your Password: muzu123\n",
      "Access successfully completed\n"
     ]
    }
   ],
   "source": [
    "b_username=\"muzu\"\n",
    "b_password=\"muzu123\"\n",
    "\n",
    "username=input(\"Add your Username:  \")\n",
    "password=input(\"Add Your Password: \")\n",
    "\n",
    "if username.lower().replace(\" \",\"\")==b_username and password.replace(\" \",\"\")==b_password:\n",
    "    print(\"Access successfully completed\")\n",
    "    \n",
    "else:\n",
    "    print(\"Access denied\")\n",
    "\n"
   ]
  },
  {
   "cell_type": "code",
   "execution_count": 15,
   "id": "c2b65bcb",
   "metadata": {},
   "outputs": [
    {
     "name": "stdout",
     "output_type": "stream",
     "text": [
      "Enter Person's Year:  10\n",
      "Dog old is =  53\n"
     ]
    }
   ],
   "source": [
    "person_old=int(input(\"Enter Person's Year:  \"))\n",
    "\n",
    "if person_old==2:\n",
    "    print(\"Dog old is = \",int(person_old*10.5))\n",
    "   \n",
    "elif person_old==1:\n",
    "    print(\"Dog old is = \",person_old*10.5)    \n",
    "\n",
    "elif person_old>=3:\n",
    "    print(\"Dog old is = \" ,(person_old-2)*4+21)\n",
    "elif person_old<0:\n",
    "    print(\"You have entered minus number\")\n",
    "    \n"
   ]
  },
  {
   "cell_type": "code",
   "execution_count": 14,
   "id": "b6b3467c",
   "metadata": {},
   "outputs": [
    {
     "name": "stdout",
     "output_type": "stream",
     "text": [
      "2022's  ZODIAC\n",
      "PLease enter your birthday [Day]: 20 \n",
      "Please enter your birthday [Month] :  MAY  \n",
      "Siz 'Buga' burcusuz\n"
     ]
    }
   ],
   "source": [
    "print(\"2022's  ZODIAC\")\n",
    "day=int(input(\"PLease enter your birthday [Day]: \"))\n",
    "month=input(\"Please enter your birthday [Month] :  \")\n",
    "\n",
    "unknownday=\"There is not such day in\"+month.capitalize()\n",
    "month_format=month.lower().strip()\n",
    " \n",
    "\n",
    "if day<=0:\n",
    "    print(\"0 or minus numbers is not allowed\")\n",
    "\n",
    "    \n",
    "elif month_format==\"march\":\n",
    "    if 31>=day>=21:\n",
    "        print(\"Siz\",\"'Qoc'\",\"burcusuz\")\n",
    "    elif day>31:\n",
    "        print(unknownday)\n",
    "    else:\n",
    "        print(\"Siz\",\"'Baliq'\",\"burcusuz\")\n",
    "elif month_format==\"aprel\":\n",
    "    if 1<=day<=19:\n",
    "        print(\"Siz\",\"'Qoc'\",\"burcusuz\")\n",
    "    elif day>30:\n",
    "        print(unknownday)\n",
    "    else:\n",
    "        print(\"Siz\",\"'Buga'\",\"burcusuz\") \n",
    "elif month_format==\"may\":\n",
    "    if 1<=day<=20:\n",
    "        print(\"Siz\",\"'Buga'\",\"burcusuz\")\n",
    "    elif day>31:\n",
    "        print(unknownday)\n",
    "    else:\n",
    "        print(\"Siz\",\"'Ekizler'\",\"burcusuz\")\n",
    "elif month_format==\"june\":\n",
    "    if 1<=day<=20:\n",
    "        print(\"Siz\",\"'Ekizler'\",\"burcusuz\")\n",
    "    elif day>30:\n",
    "        print(unknownday)\n",
    "    else:\n",
    "        print(\"Siz\",\"'Xerceng'\",\"burcusuz\")\n",
    "elif month_format==\"july\":\n",
    "    if 1<=day<=22:\n",
    "        print(\"Siz\",\"'Xerceng'\",\"burcusuz\")\n",
    "    elif day>31:\n",
    "        print(unknownday)\n",
    "    else:\n",
    "        print(\"Siz\",\"'Shir'\",\"burcusuz\")\n",
    "elif month_format==\"august\":\n",
    "    if 1<=day<=22:\n",
    "        print(\"Siz\",\"'Shir'\",\"burcusuz\")\n",
    "    elif day>31:\n",
    "        print(unknownday)\n",
    "    else:\n",
    "        print(\"Siz\",\"'Qiz'\",\"burcusuz\")\n",
    "elif month_format==\"september\":\n",
    "    if 1<=day<=22:\n",
    "        print(\"Siz\",\"'Qiz'\",\"burcusuz\")\n",
    "    elif day>30:\n",
    "        print(unknownday)\n",
    "    else:\n",
    "        print(\"Siz\",\"'Terezi'\",\"burcusuz\")\n",
    "elif month_format==\"october\":\n",
    "    if 1<=day<=22:\n",
    "        print(\"Siz\",\"'Terezi'\",\"burcusuz\")\n",
    "    elif day>31:\n",
    "        print(unknownday)\n",
    "    else:\n",
    "        print(\"Siz\",\"'Eqreb'\",\"burcusuz\")\n",
    "elif month_format==\"november\":\n",
    "    if 1<=day<=24:\n",
    "        print(\"Siz\",\"'Eqreb'\",\"burcusuz\")\n",
    "    elif day>30:\n",
    "        print(unknownday)\n",
    "    else:\n",
    "        print(\"Siz\",\"'Oxatan'\",\"burcusuz\")\n",
    "elif month_format==\"december\":\n",
    "    if 1<=day<=21:\n",
    "        print(\"Siz\",\"'Oxatan'\",\"burcusuz\")\n",
    "    elif day>31:\n",
    "        print(unknownday)\n",
    "    else:\n",
    "        print(\"Siz\",\"'Oglaq'\",\"burcusuz\")\n",
    "elif month_format==\"january\":\n",
    "    if 1<=day<=19:\n",
    "        print(\"Siz\",\"'Oglaq'\",\"burcusuz\")\n",
    "    elif day>31:\n",
    "        print(unknownday)\n",
    "    else:\n",
    "        print(\"Siz\",\"'Dolca'\",\"burcusuz\")\n",
    "elif month_format==\"february\":\n",
    "    if 1<=day<=18:\n",
    "        print(\"Siz\",\"'Dolca'\",\"burcusuz\")\n",
    "    elif day>28:\n",
    "        print(unknownday)\n",
    "    else:\n",
    "        print(\"Siz\",\"'Baliq'\",\"burcusuz\")\n",
    "        \n",
    "else:\n",
    "    print(\"Please enter month format correctly in english \")"
   ]
  },
  {
   "cell_type": "code",
   "execution_count": null,
   "id": "31c63ba1",
   "metadata": {},
   "outputs": [],
   "source": []
  },
  {
   "cell_type": "code",
   "execution_count": null,
   "id": "1203da99",
   "metadata": {},
   "outputs": [],
   "source": []
  },
  {
   "cell_type": "code",
   "execution_count": null,
   "id": "9bb7f0b7",
   "metadata": {},
   "outputs": [],
   "source": []
  }
 ],
 "metadata": {
  "kernelspec": {
   "display_name": "Python 3 (ipykernel)",
   "language": "python",
   "name": "python3"
  },
  "language_info": {
   "codemirror_mode": {
    "name": "ipython",
    "version": 3
   },
   "file_extension": ".py",
   "mimetype": "text/x-python",
   "name": "python",
   "nbconvert_exporter": "python",
   "pygments_lexer": "ipython3",
   "version": "3.9.6"
  }
 },
 "nbformat": 4,
 "nbformat_minor": 5
}
